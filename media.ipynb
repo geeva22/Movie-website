{
 "cells": [
  {
   "cell_type": "code",
   "execution_count": null,
   "metadata": {},
   "outputs": [],
   "source": [
    "import webbrowser\n",
    "class Movie():\n",
    "    def __init__(self, movie_title, movie_storyline, poster_image, trailer_youtube)\n",
    "        self.title = movie_title\n",
    "        self.storyline = movie_storyline\n",
    "        self.poster_image = movie_posterimage\n",
    "        self.trailer_youtube_url = trailer_youtube\n",
    "    def show_trailer(self):\n",
    "        webbrowser.open(self.trailer_youtube_url)"
   ]
  }
 ],
 "metadata": {
  "kernelspec": {
   "display_name": "Python 3",
   "language": "python",
   "name": "python3"
  },
  "language_info": {
   "codemirror_mode": {
    "name": "ipython",
    "version": 3
   },
   "file_extension": ".py",
   "mimetype": "text/x-python",
   "name": "python",
   "nbconvert_exporter": "python",
   "pygments_lexer": "ipython3",
   "version": "3.7.1"
  }
 },
 "nbformat": 4,
 "nbformat_minor": 2
}
