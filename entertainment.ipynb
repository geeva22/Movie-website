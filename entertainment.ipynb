{
 "cells": [
  {
   "cell_type": "code",
   "execution_count": null,
   "metadata": {},
   "outputs": [],
   "source": [
    "import fresh_tomatoes\n",
    "import media\n",
    "\n",
    "def main():\n",
    "    \"\"\"Creates six Movie objects, initialising these objects with title, storyline,\n",
    "    poster image link, video trailer link and release date.\"\"\"\n",
    "    cm = media.Movie(\"Nerkonda Parvai\",\n",
    "                          \"Remake of hindi PINK movie\",\n",
    "                          \"https://en.wikipedia.org/wiki/Nerkonda_Paarvai#/media/File:Nerkonda_Paarvai_poster.jpg\",\n",
    "                          \"https://www.youtube.com/watch?v=WX9TDlEoQFo&t=3s\",\n",
    "                          \"Release date: Aug 10, 2019\")\n",
    "\n",
    "    ae = media.Movie(\"Avengers: EndGame\",\n",
    "                          \"The Avengers take a final stand against Thanos\",\n",
    "                          \"https://m.media-amazon.com/images/M/MV5BMTc5MDE2ODcwNV5BMl5BanBnXkFtZTgwMzI2NzQ2NzM@._V1_.jpg\",\n",
    "                          \"https://www.youtube.com/watch?v=TcMBFSGVi1c\",\n",
    "                          \"April 26, 2019\")\n",
    "\n",
    "    sm = media.Movie(\"Spider-Man: FFH\",\n",
    "                           \"Following the events of Avengers: Endgame,\",\n",
    "                           \"https://terrigen-cdn-dev.marvel.com/content/prod/1x/sffh_venice-high-res.jpg\",\n",
    "                           \"https://www.youtube.com/watch?v=Nt9L1jCKGnE\",\n",
    "                           \"July 5, 2019\")\n",
    "\n",
    "    xm = media.Movie(\"X-Men: Dark Phoenix\",\n",
    "                         \"Jean Grey begins to develop incredible powers\",\n",
    "                         \"https://m.media-amazon.com/images/M/MV5BMjAwNDgxNTI0M15BMl5BanBnXkFtZTgwNTY4MDI1NzM@._V1_.jpg\",\n",
    "                         \"https://www.youtube.com/watch?v=azvR__GRQic\",\n",
    "                         \"June 7, 2019\")\n",
    "\n",
    "    sz = media.Movie(\"Shazam!\",\n",
    "                           \"An effortlessly entertaining blend of humor and heart\",\n",
    "                           \"https://m.media-amazon.com/images/M/MV5BYTE0Yjc1NzUtMjFjMC00Y2I3LTg3NGYtNGRlMGJhYThjMTJmXkEyXkFqcGdeQXVyNTI4MzE4MDU@._V1_.jpg\",\n",
    "                           \"https://www.youtube.com/watch?v=uilJZZ_iVwY\",\n",
    "                           \"April 5, 2019\")\n",
    "\n",
    "    ach = media.Movie(\"Annabelle Comes Home\",\n",
    "                          \"Determined to keep Annabelle from wreaking more havoc\",\n",
    "                          \"https://m.media-amazon.com/images/M/MV5BYmI4NDNiMmQtZTFkYi00ZDVmLThlYTAtMWJlMjU1M2I2ZmViXkEyXkFqcGdeQXVyNjg2NjQwMDQ@._V1_SY1000_CR0,0,674,1000_AL_.jpg\",\n",
    "                          \"https://www.youtube.com/watch?v=EMa-KFfatT0\",\n",
    "                          \"June 26, 2019\")\n",
    "\n",
    "    # Store the Movie objects in a list.\n",
    "    movies = [cm, ae, sm, xm, sz, ach]\n",
    "\n",
    "    # Open the movie website in the user's browser, featuring the movies above.\n",
    "    fresh_tomatoes.open_movies_page(movies)\n",
    "\n",
    "if __name__ == '__main__':\n",
    "    main()\n"
   ]
  }
 ],
 "metadata": {
  "kernelspec": {
   "display_name": "Python 3",
   "language": "python",
   "name": "python3"
  },
  "language_info": {
   "codemirror_mode": {
    "name": "ipython",
    "version": 3
   },
   "file_extension": ".py",
   "mimetype": "text/x-python",
   "name": "python",
   "nbconvert_exporter": "python",
   "pygments_lexer": "ipython3",
   "version": "3.7.4"
  }
 },
 "nbformat": 4,
 "nbformat_minor": 2
}
